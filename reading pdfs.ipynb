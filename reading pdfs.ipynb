{
 "cells": [
  {
   "cell_type": "markdown",
   "id": "ba894895",
   "metadata": {},
   "source": [
    "### Install these libraries "
   ]
  },
  {
   "cell_type": "code",
   "execution_count": null,
   "id": "e4f71d86",
   "metadata": {},
   "outputs": [],
   "source": [
    "# !pip -q install langchain openai tiktoken PyPDF2 faiss-cpu"
   ]
  },
  {
   "cell_type": "markdown",
   "id": "96e25c49",
   "metadata": {},
   "source": [
    "# Importing necessary Libraries"
   ]
  },
  {
   "cell_type": "code",
   "execution_count": null,
   "id": "fecb8290",
   "metadata": {},
   "outputs": [],
   "source": [
    "from langchain.document_loaders import UnstructuredPDFLoader, OnlinePDFLoader\n",
    "from langchain.text_splitter import RecursiveCharacterTextSplitter\n",
    "from langchain.embeddings.openai import OpenAIEmbeddings\n",
    "import os\n",
    "import openai\n",
    "from langchain.llms import OpenAI\n",
    "from langchain.chains.question_answering import load_qa_chain\n",
    "from langchain.vectorstores import FAISS "
   ]
  },
  {
   "cell_type": "code",
   "execution_count": null,
   "id": "70ccf73e",
   "metadata": {},
   "outputs": [],
   "source": [
    "OPENAI_API_KEY= \"Put your openapi key\""
   ]
  },
  {
   "cell_type": "code",
   "execution_count": null,
   "id": "b596d8d5",
   "metadata": {},
   "outputs": [],
   "source": [
    "folder = r'allpdfs'\n",
    "os.listdir(folder)"
   ]
  },
  {
   "cell_type": "code",
   "execution_count": null,
   "id": "e246beff",
   "metadata": {
    "scrolled": true
   },
   "outputs": [],
   "source": [
    "loaders = [UnstructuredPDFLoader(os.path.join(folder, fn)) for fn in os.listdir(folder)]\n",
    "loaders"
   ]
  },
  {
   "cell_type": "code",
   "execution_count": null,
   "id": "8de706ac",
   "metadata": {
    "scrolled": true
   },
   "outputs": [],
   "source": [
    "texts = []\n",
    "for i in range(len(loaders)):\n",
    "    data = loaders[i].load()\n",
    "    texts.append(data[0])\n",
    "print(len(texts))"
   ]
  },
  {
   "cell_type": "markdown",
   "id": "cf012c85",
   "metadata": {},
   "source": [
    "# Splitting the texts"
   ]
  },
  {
   "cell_type": "code",
   "execution_count": null,
   "id": "0f8dc461",
   "metadata": {},
   "outputs": [],
   "source": [
    "text_splitter = RecursiveCharacterTextSplitter(chunk_size=1000, chunk_overlap=0)\n",
    "chunks = text_splitter.split_documents(texts)"
   ]
  },
  {
   "cell_type": "code",
   "execution_count": null,
   "id": "a11b970c",
   "metadata": {},
   "outputs": [],
   "source": [
    "len(chunks)"
   ]
  },
  {
   "cell_type": "code",
   "execution_count": null,
   "id": "4aadbaa3",
   "metadata": {},
   "outputs": [],
   "source": [
    "chunks[20]"
   ]
  },
  {
   "cell_type": "code",
   "execution_count": null,
   "id": "45f0529b",
   "metadata": {},
   "outputs": [],
   "source": [
    "embeddings = OpenAIEmbeddings(openai_api_key=OPENAI_API_KEY)\n",
    "# doc_search = Chroma.from_documents(chunks,embeddings)\n",
    "docsearch = FAISS.from_texts([text.page_content for text in chunks], embeddings)"
   ]
  },
  {
   "cell_type": "code",
   "execution_count": null,
   "id": "a8aa5887",
   "metadata": {},
   "outputs": [],
   "source": [
    "docsearch.embedding_function"
   ]
  },
  {
   "cell_type": "code",
   "execution_count": null,
   "id": "acde1463",
   "metadata": {},
   "outputs": [],
   "source": [
    "llm = OpenAI(openai_api_key = OPENAI_API_KEY)\n",
    "chain = load_qa_chain(llm,chain_type=\"stuff\")"
   ]
  },
  {
   "cell_type": "markdown",
   "id": "6ad290d6",
   "metadata": {},
   "source": [
    "# Output"
   ]
  },
  {
   "cell_type": "code",
   "execution_count": null,
   "id": "aa8a891c",
   "metadata": {},
   "outputs": [],
   "source": [
    "while True:\n",
    "    query =  input(\"Enter the questions: \")\n",
    "    docs = docsearch.similarity_search(query)\n",
    "    answer = chain.run(input_documents =docs, question= query )\n",
    "    print(answer)\n",
    "    print()"
   ]
  },
  {
   "cell_type": "code",
   "execution_count": null,
   "id": "44278f22",
   "metadata": {},
   "outputs": [],
   "source": []
  }
 ],
 "metadata": {
  "kernelspec": {
   "display_name": "Python 3 (ipykernel)",
   "language": "python",
   "name": "python3"
  },
  "language_info": {
   "codemirror_mode": {
    "name": "ipython",
    "version": 3
   },
   "file_extension": ".py",
   "mimetype": "text/x-python",
   "name": "python",
   "nbconvert_exporter": "python",
   "pygments_lexer": "ipython3",
   "version": "3.9.7"
  }
 },
 "nbformat": 4,
 "nbformat_minor": 5
}
